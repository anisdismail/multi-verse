{
 "cells": [
  {
   "cell_type": "code",
   "execution_count": 1,
   "metadata": {},
   "outputs": [
    {
     "name": "stderr",
     "output_type": "stream",
     "text": [
      "/home/zuzanna/miniconda3/lib/python3.12/site-packages/tqdm/auto.py:21: TqdmWarning: IProgress not found. Please update jupyter and ipywidgets. See https://ipywidgets.readthedocs.io/en/stable/user_install.html\n",
      "  from .autonotebook import tqdm as notebook_tqdm\n"
     ]
    },
    {
     "name": "stdout",
     "output_type": "stream",
     "text": [
      "['/home/zuzanna/miniconda3/lib/python312.zip', '/home/zuzanna/miniconda3/lib/python3.12', '/home/zuzanna/miniconda3/lib/python3.12/lib-dynload', '', '/home/zuzanna/miniconda3/lib/python3.12/site-packages', '/home']\n"
     ]
    },
    {
     "name": "stderr",
     "output_type": "stream",
     "text": [
      "/home/zuzanna/miniconda3/lib/python3.12/site-packages/anndata/utils.py:429: FutureWarning: Importing read_csv from `anndata` is deprecated. Import anndata.io.read_csv instead.\n",
      "  warnings.warn(msg, FutureWarning)\n",
      "/home/zuzanna/miniconda3/lib/python3.12/site-packages/anndata/utils.py:429: FutureWarning: Importing read_loom from `anndata` is deprecated. Import anndata.io.read_loom instead.\n",
      "  warnings.warn(msg, FutureWarning)\n",
      "/home/zuzanna/miniconda3/lib/python3.12/site-packages/anndata/utils.py:429: FutureWarning: Importing read_text from `anndata` is deprecated. Import anndata.io.read_text instead.\n",
      "  warnings.warn(msg, FutureWarning)\n",
      "/home/zuzanna/miniconda3/lib/python3.12/site-packages/anndata/utils.py:429: FutureWarning: Importing CSCDataset from `anndata.experimental` is deprecated. Import anndata.abc.CSCDataset instead.\n",
      "  warnings.warn(msg, FutureWarning)\n",
      "/home/zuzanna/miniconda3/lib/python3.12/site-packages/anndata/utils.py:429: FutureWarning: Importing CSRDataset from `anndata.experimental` is deprecated. Import anndata.abc.CSRDataset instead.\n",
      "  warnings.warn(msg, FutureWarning)\n",
      "/home/zuzanna/miniconda3/lib/python3.12/site-packages/anndata/utils.py:429: FutureWarning: Importing read_elem from `anndata.experimental` is deprecated. Import anndata.io.read_elem instead.\n",
      "  warnings.warn(msg, FutureWarning)\n"
     ]
    },
    {
     "data": {
      "text/plain": [
       "True"
      ]
     },
     "execution_count": 1,
     "metadata": {},
     "output_type": "execute_result"
    }
   ],
   "source": [
    "import json\n",
    "import os\n",
    "from train import Trainer\n",
    "import warnings\n",
    "# Suppress all warnings\n",
    "warnings.filterwarnings('ignore')\n",
    "\n",
    "import torch\n",
    "torch.cuda.is_available()"
   ]
  },
  {
   "cell_type": "code",
   "execution_count": 2,
   "metadata": {},
   "outputs": [
    {
     "name": "stdout",
     "output_type": "stream",
     "text": [
      "Loaded configuration successfully.\n",
      "Datasets Detected: ['dataset_Pbmc10k', 'dataset_TEA']\n",
      "Loaded configuration successfully.\n",
      "Loaded configuration successfully.\n",
      "Added `interval` annotation for features from /home/zuzanna/data/GSM4949911_X061-AP0C1W1_leukopak_perm-cells_tea_fulldepth_cellrangerarc_filtered_feature_bc_matrix.h5\n",
      "Loaded configuration successfully.\n",
      "Added `interval` annotation for features from /home/zuzanna/data/GSM4949911_X061-AP0C1W1_leukopak_perm-cells_tea_fulldepth_cellrangerarc_filtered_feature_bc_matrix.h5\n",
      "Loaded configuration successfully.\n",
      "Loaded configuration successfully.\n"
     ]
    }
   ],
   "source": [
    "# Initialize the Trainer\n",
    "my_trainer = Trainer(config_path=\"./config_alldatasets.json\")\n",
    "\n",
    "# Load all datasets\n",
    "datasets = my_trainer.load_datasets()\n",
    "\n"
   ]
  },
  {
   "cell_type": "code",
   "execution_count": 3,
   "metadata": {},
   "outputs": [
    {
     "data": {
      "text/plain": [
       "{'dataset_Pbmc10k': {'modalities': ['rna', 'atac'],\n",
       "  'data': [AnnData object with n_obs × n_vars = 9578 × 2000\n",
       "       obs: 'domain', 'cell_type', 'n_genes_by_counts', 'log1p_n_genes_by_counts', 'total_counts', 'log1p_total_counts', 'pct_counts_in_top_50_genes', 'pct_counts_in_top_100_genes', 'pct_counts_in_top_200_genes', 'pct_counts_in_top_500_genes', 'total_counts_mt', 'log1p_total_counts_mt', 'pct_counts_mt'\n",
       "       var: 'gene_ids', 'feature_types', 'mt', 'n_cells_by_counts', 'mean_counts', 'log1p_mean_counts', 'pct_dropout_by_counts', 'total_counts', 'log1p_total_counts', 'highly_variable', 'means', 'dispersions', 'dispersions_norm'\n",
       "       uns: 'log1p', 'hvg'\n",
       "       layers: 'counts',\n",
       "   AnnData object with n_obs × n_vars = 9538 × 15000\n",
       "       obs: 'domain', 'cell_type', 'n_genes_by_counts', 'log1p_n_genes_by_counts', 'total_counts', 'log1p_total_counts'\n",
       "       var: 'feature_types', 'n_cells_by_counts', 'mean_counts', 'log1p_mean_counts', 'pct_dropout_by_counts', 'total_counts', 'log1p_total_counts', 'highly_variable', 'means', 'dispersions', 'dispersions_norm'\n",
       "       uns: 'spectral_eigenvalue', 'log1p', 'hvg'\n",
       "       obsm: 'X_spectral', 'X_umap'\n",
       "       layers: 'counts']},\n",
       " 'dataset_TEA': {'modalities': ['rna', 'atac', 'adt'],\n",
       "  'data': [AnnData object with n_obs × n_vars = 7509 × 2000\n",
       "       obs: 'n_genes_by_counts', 'log1p_n_genes_by_counts', 'total_counts', 'log1p_total_counts', 'pct_counts_in_top_50_genes', 'pct_counts_in_top_100_genes', 'pct_counts_in_top_200_genes', 'pct_counts_in_top_500_genes', 'total_counts_mt', 'log1p_total_counts_mt', 'pct_counts_mt'\n",
       "       var: 'gene_ids', 'feature_types', 'genome', 'interval', 'mt', 'n_cells_by_counts', 'mean_counts', 'log1p_mean_counts', 'pct_dropout_by_counts', 'total_counts', 'log1p_total_counts', 'highly_variable', 'means', 'dispersions', 'dispersions_norm'\n",
       "       uns: 'log1p', 'hvg'\n",
       "       layers: 'counts',\n",
       "   AnnData object with n_obs × n_vars = 7592 × 15000\n",
       "       obs: 'n_genes_by_counts', 'log1p_n_genes_by_counts', 'total_counts', 'log1p_total_counts'\n",
       "       var: 'gene_ids', 'feature_types', 'genome', 'interval', 'n_cells_by_counts', 'mean_counts', 'log1p_mean_counts', 'pct_dropout_by_counts', 'total_counts', 'log1p_total_counts', 'highly_variable', 'means', 'dispersions', 'dispersions_norm'\n",
       "       uns: 'log1p', 'hvg'\n",
       "       layers: 'counts',\n",
       "   AnnData object with n_obs × n_vars = 729095 × 46\n",
       "       var: 'highly_variable'\n",
       "       layers: 'counts']}}"
      ]
     },
     "execution_count": 3,
     "metadata": {},
     "output_type": "execute_result"
    }
   ],
   "source": [
    "datasets"
   ]
  },
  {
   "cell_type": "code",
   "execution_count": null,
   "metadata": {},
   "outputs": [
    {
     "name": "stdout",
     "output_type": "stream",
     "text": [
      "\n",
      "=== Processing dataset: dataset_Pbmc10k ===\n",
      "Initializing Mowgli Model\n",
      "Loaded configuration successfully.\n",
      "Loaded models for dataset_Pbmc10k: dict_keys(['mowgli'])\n",
      "\n",
      "Training model: mowgli for dataset: dataset_Pbmc10k\n",
      "Training Mowgli Model\n"
     ]
    },
    {
     "name": "stderr",
     "output_type": "stream",
     "text": [
      "  2%|▏         | 4/200 [00:08<07:10,  2.20s/it, loss=-0.28898984, mass_transported=0.0364, loss_inner=0.105077155, inner_steps=0, gpu_memory_allocated=2.87e+9]\n"
     ]
    },
    {
     "name": "stdout",
     "output_type": "stream",
     "text": [
      "Generating UMAP plot\n",
      "Error generating UMAP: Did not find X_mowgli in `.obsm.keys()`. You need to compute it first.\n",
      "\n",
      "=== Processing dataset: dataset_TEA ===\n",
      "Warning: 'cell_type' not found in RNA modality during concatenation.\n",
      "Warning: 'cell_type' not found in RNA modality during concatenation.\n",
      "Warning: 'cell_type' not found in RNA modality during concatenation.\n",
      "Initializing Mowgli Model\n",
      "Loaded configuration successfully.\n",
      "Loaded models for dataset_TEA: dict_keys(['mowgli'])\n",
      "\n",
      "Training model: mowgli for dataset: dataset_TEA\n",
      "Training Mowgli Model\n"
     ]
    }
   ],
   "source": [
    "# Iterate over datasets\n",
    "for dataset_name, dataset_data in datasets.items():\n",
    "    print(f\"\\n=== Processing dataset: {dataset_name} ===\")\n",
    "    \n",
    "    # Select models for this dataset\n",
    "    models = my_trainer.model_select(dataset_name, dataset_data)\n",
    "    print(f\"Loaded models for {dataset_name}: {models.keys()}\")\n",
    "    \n",
    "    # Train each model\n",
    "    for model_name, model in models.items():\n",
    "        print(f\"\\nTraining model: {model_name} for dataset: {dataset_name}\")\n",
    "        model.train()\n",
    "        model.umap()  # Perform UMAP visualization if needed\n"
   ]
  }
 ],
 "metadata": {
  "kernelspec": {
   "display_name": "base",
   "language": "python",
   "name": "python3"
  },
  "language_info": {
   "codemirror_mode": {
    "name": "ipython",
    "version": 3
   },
   "file_extension": ".py",
   "mimetype": "text/x-python",
   "name": "python",
   "nbconvert_exporter": "python",
   "pygments_lexer": "ipython3",
   "version": "3.12.2"
  }
 },
 "nbformat": 4,
 "nbformat_minor": 2
}
