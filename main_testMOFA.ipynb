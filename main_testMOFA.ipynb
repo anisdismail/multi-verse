{
 "cells": [
  {
   "cell_type": "code",
   "execution_count": null,
   "metadata": {},
   "outputs": [],
   "source": [
    "import json\n",
    "import os\n",
    "from train import Trainer\n",
    "import warnings\n",
    "# Suppress all warnings\n",
    "warnings.filterwarnings('ignore')\n",
    "\n",
    "import torch\n",
    "torch.cuda.is_available()"
   ]
  },
  {
   "cell_type": "code",
   "execution_count": 2,
   "metadata": {},
   "outputs": [
    {
     "name": "stdout",
     "output_type": "stream",
     "text": [
      "Loaded configuration successfully.\n",
      "Added `interval` annotation for features from /home/zuzanna/data/GSM4949911_X061-AP0C1W1_leukopak_perm-cells_tea_fulldepth_cellrangerarc_filtered_feature_bc_matrix.h5\n",
      "Loaded configuration successfully.\n",
      "Added `interval` annotation for features from /home/zuzanna/data/GSM4949911_X061-AP0C1W1_leukopak_perm-cells_tea_fulldepth_cellrangerarc_filtered_feature_bc_matrix.h5\n",
      "Loaded configuration successfully.\n",
      "Loaded configuration successfully.\n"
     ]
    }
   ],
   "source": [
    "# Initialize the Trainer\n",
    "my_trainer = Trainer(config_path=\"./config_alldatasets.json\")\n",
    "\n",
    "# Load all datasets\n",
    "datasets = my_trainer.load_datasets()\n",
    "\n"
   ]
  },
  {
   "cell_type": "code",
   "execution_count": 3,
   "metadata": {},
   "outputs": [
    {
     "data": {
      "text/plain": [
       "{'dataset_Pbmc10k': {'modalities': ['rna', 'atac'],\n",
       "  'data': [AnnData object with n_obs × n_vars = 9578 × 2000\n",
       "       obs: 'domain', 'cell_type', 'n_genes_by_counts', 'log1p_n_genes_by_counts', 'total_counts', 'log1p_total_counts', 'pct_counts_in_top_50_genes', 'pct_counts_in_top_100_genes', 'pct_counts_in_top_200_genes', 'pct_counts_in_top_500_genes', 'total_counts_mt', 'log1p_total_counts_mt', 'pct_counts_mt'\n",
       "       var: 'gene_ids', 'feature_types', 'mt', 'n_cells_by_counts', 'mean_counts', 'log1p_mean_counts', 'pct_dropout_by_counts', 'total_counts', 'log1p_total_counts', 'highly_variable', 'means', 'dispersions', 'dispersions_norm'\n",
       "       uns: 'log1p', 'hvg'\n",
       "       layers: 'counts',\n",
       "   AnnData object with n_obs × n_vars = 9538 × 15000\n",
       "       obs: 'domain', 'cell_type', 'n_genes_by_counts', 'log1p_n_genes_by_counts', 'total_counts', 'log1p_total_counts'\n",
       "       var: 'feature_types', 'n_cells_by_counts', 'mean_counts', 'log1p_mean_counts', 'pct_dropout_by_counts', 'total_counts', 'log1p_total_counts', 'highly_variable', 'means', 'dispersions', 'dispersions_norm'\n",
       "       uns: 'spectral_eigenvalue', 'log1p', 'hvg'\n",
       "       obsm: 'X_spectral', 'X_umap'\n",
       "       layers: 'counts']},\n",
       " 'dataset_TEA': {'modalities': ['rna', 'atac', 'adt'],\n",
       "  'data': [AnnData object with n_obs × n_vars = 7509 × 2000\n",
       "       obs: 'n_genes_by_counts', 'log1p_n_genes_by_counts', 'total_counts', 'log1p_total_counts', 'pct_counts_in_top_50_genes', 'pct_counts_in_top_100_genes', 'pct_counts_in_top_200_genes', 'pct_counts_in_top_500_genes', 'total_counts_mt', 'log1p_total_counts_mt', 'pct_counts_mt'\n",
       "       var: 'gene_ids', 'feature_types', 'genome', 'interval', 'mt', 'n_cells_by_counts', 'mean_counts', 'log1p_mean_counts', 'pct_dropout_by_counts', 'total_counts', 'log1p_total_counts', 'highly_variable', 'means', 'dispersions', 'dispersions_norm'\n",
       "       uns: 'log1p', 'hvg'\n",
       "       layers: 'counts',\n",
       "   AnnData object with n_obs × n_vars = 7592 × 15000\n",
       "       obs: 'n_genes_by_counts', 'log1p_n_genes_by_counts', 'total_counts', 'log1p_total_counts'\n",
       "       var: 'gene_ids', 'feature_types', 'genome', 'interval', 'n_cells_by_counts', 'mean_counts', 'log1p_mean_counts', 'pct_dropout_by_counts', 'total_counts', 'log1p_total_counts', 'highly_variable', 'means', 'dispersions', 'dispersions_norm'\n",
       "       uns: 'log1p', 'hvg'\n",
       "       layers: 'counts',\n",
       "   AnnData object with n_obs × n_vars = 729095 × 46\n",
       "       var: 'highly_variable'\n",
       "       layers: 'counts']}}"
      ]
     },
     "execution_count": 3,
     "metadata": {},
     "output_type": "execute_result"
    }
   ],
   "source": [
    "datasets"
   ]
  },
  {
   "cell_type": "code",
   "execution_count": null,
   "metadata": {},
   "outputs": [
    {
     "name": "stdout",
     "output_type": "stream",
     "text": [
      "\n",
      "=== Processing dataset: dataset_Pbmc10k ===\n",
      "Initializing MOFA+ Model\n",
      "Loaded configuration successfully.\n",
      "MOFA+ initialized with dataset_Pbmc10k, 20 factors to be trained with.\n",
      "Loaded models for dataset_Pbmc10k: dict_keys(['mofa+'])\n",
      "\n",
      "Training model: mofa+ for dataset: dataset_Pbmc10k\n",
      "Switching to cuda:0 mode\n",
      "Training MOFA+ Model\n",
      "\n",
      "        #########################################################\n",
      "        ###           __  __  ____  ______                    ### \n",
      "        ###          |  \\/  |/ __ \\|  ____/\\    _             ### \n",
      "        ###          | \\  / | |  | | |__ /  \\ _| |_           ### \n",
      "        ###          | |\\/| | |  | |  __/ /\\ \\_   _|          ###\n",
      "        ###          | |  | | |__| | | / ____ \\|_|            ###\n",
      "        ###          |_|  |_|\\____/|_|/_/    \\_\\              ###\n",
      "        ###                                                   ### \n",
      "        ######################################################### \n",
      "       \n",
      " \n",
      "        \n",
      "Loaded view='rna' group='group1' with N=9505 samples and D=2000 features...\n",
      "Loaded view='atac' group='group1' with N=9505 samples and D=15000 features...\n",
      "\n",
      "\n",
      "Model options:\n",
      "- Automatic Relevance Determination prior on the factors: True\n",
      "- Automatic Relevance Determination prior on the weights: True\n",
      "- Spike-and-slab prior on the factors: False\n",
      "- Spike-and-slab prior on the weights: True\n",
      "Likelihoods:\n",
      "- View 0 (rna): gaussian\n",
      "- View 1 (atac): gaussian\n",
      "\n",
      "\n",
      "\n",
      "GPU mode is activated, but GPU not found... switching to CPU mode\n",
      "For GPU mode, you need:\n",
      "1 - Make sure that you are running MOFA+ on a machine with an NVIDIA GPU\n",
      "2 - Install CUPY following instructions on https://docs-cupy.chainer.org/en/stable/install.html\n",
      "\n",
      "\n",
      "\n",
      "######################################\n",
      "## Training the model with seed 1 ##\n",
      "######################################\n",
      "\n",
      "\n"
     ]
    }
   ],
   "source": [
    "# Iterate over datasets\n",
    "for dataset_name, dataset_data in datasets.items():\n",
    "    print(f\"\\n=== Processing dataset: {dataset_name} ===\")\n",
    "    \n",
    "    # Select models for this dataset\n",
    "    models = my_trainer.model_select(dataset_name, dataset_data)\n",
    "    print(f\"Loaded models for {dataset_name}: {models.keys()}\")\n",
    "    \n",
    "    # Train each model\n",
    "    for model_name, model in models.items():\n",
    "        print(f\"\\nTraining model: {model_name} for dataset: {dataset_name}\")\n",
    "        model.to()\n",
    "        model.train()\n",
    "        model.save_latent()\n",
    "        model.load_latent()\n",
    "        model.umap()\n"
   ]
  }
 ],
 "metadata": {
  "kernelspec": {
   "display_name": "base",
   "language": "python",
   "name": "python3"
  },
  "language_info": {
   "codemirror_mode": {
    "name": "ipython",
    "version": 3
   },
   "file_extension": ".py",
   "mimetype": "text/x-python",
   "name": "python",
   "nbconvert_exporter": "python",
   "pygments_lexer": "ipython3",
   "version": "3.12.2"
  }
 },
 "nbformat": 4,
 "nbformat_minor": 2
}
