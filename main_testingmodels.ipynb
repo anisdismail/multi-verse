{
 "cells": [
  {
   "cell_type": "code",
   "execution_count": 1,
   "metadata": {},
   "outputs": [
    {
     "name": "stderr",
     "output_type": "stream",
     "text": [
      "/home/zuzanna/miniconda3/lib/python3.12/site-packages/tqdm/auto.py:21: TqdmWarning: IProgress not found. Please update jupyter and ipywidgets. See https://ipywidgets.readthedocs.io/en/stable/user_install.html\n",
      "  from .autonotebook import tqdm as notebook_tqdm\n"
     ]
    },
    {
     "name": "stdout",
     "output_type": "stream",
     "text": [
      "['/home/zuzanna/miniconda3/lib/python312.zip', '/home/zuzanna/miniconda3/lib/python3.12', '/home/zuzanna/miniconda3/lib/python3.12/lib-dynload', '', '/home/zuzanna/miniconda3/lib/python3.12/site-packages', '/home']\n"
     ]
    },
    {
     "name": "stderr",
     "output_type": "stream",
     "text": [
      "/home/zuzanna/miniconda3/lib/python3.12/site-packages/anndata/utils.py:429: FutureWarning: Importing read_csv from `anndata` is deprecated. Import anndata.io.read_csv instead.\n",
      "  warnings.warn(msg, FutureWarning)\n",
      "/home/zuzanna/miniconda3/lib/python3.12/site-packages/anndata/utils.py:429: FutureWarning: Importing read_loom from `anndata` is deprecated. Import anndata.io.read_loom instead.\n",
      "  warnings.warn(msg, FutureWarning)\n",
      "/home/zuzanna/miniconda3/lib/python3.12/site-packages/anndata/utils.py:429: FutureWarning: Importing read_text from `anndata` is deprecated. Import anndata.io.read_text instead.\n",
      "  warnings.warn(msg, FutureWarning)\n",
      "/home/zuzanna/miniconda3/lib/python3.12/site-packages/anndata/utils.py:429: FutureWarning: Importing CSCDataset from `anndata.experimental` is deprecated. Import anndata.abc.CSCDataset instead.\n",
      "  warnings.warn(msg, FutureWarning)\n",
      "/home/zuzanna/miniconda3/lib/python3.12/site-packages/anndata/utils.py:429: FutureWarning: Importing CSRDataset from `anndata.experimental` is deprecated. Import anndata.abc.CSRDataset instead.\n",
      "  warnings.warn(msg, FutureWarning)\n",
      "/home/zuzanna/miniconda3/lib/python3.12/site-packages/anndata/utils.py:429: FutureWarning: Importing read_elem from `anndata.experimental` is deprecated. Import anndata.io.read_elem instead.\n",
      "  warnings.warn(msg, FutureWarning)\n"
     ]
    },
    {
     "data": {
      "text/plain": [
       "True"
      ]
     },
     "execution_count": 1,
     "metadata": {},
     "output_type": "execute_result"
    }
   ],
   "source": [
    "import json\n",
    "import os\n",
    "from train import Trainer\n",
    "import warnings\n",
    "# Suppress all warnings\n",
    "warnings.filterwarnings('ignore')\n",
    "\n",
    "import torch\n",
    "torch.cuda.is_available()"
   ]
  },
  {
   "cell_type": "code",
   "execution_count": 2,
   "metadata": {},
   "outputs": [
    {
     "name": "stdout",
     "output_type": "stream",
     "text": [
      "Loaded configuration successfully.\n",
      "Datasets Detected: ['dataset_Pbmc10k', 'dataset_TEA']\n",
      "Loaded configuration successfully.\n",
      "Loaded configuration successfully.\n",
      "Added `interval` annotation for features from /home/zuzanna/data/GSM4949911_X061-AP0C1W1_leukopak_perm-cells_tea_fulldepth_cellrangerarc_filtered_feature_bc_matrix.h5\n",
      "Loaded configuration successfully.\n",
      "Added `interval` annotation for features from /home/zuzanna/data/GSM4949911_X061-AP0C1W1_leukopak_perm-cells_tea_fulldepth_cellrangerarc_filtered_feature_bc_matrix.h5\n",
      "Loaded configuration successfully.\n",
      "Loaded configuration successfully.\n"
     ]
    }
   ],
   "source": [
    "# Initialize the Trainer\n",
    "my_trainer = Trainer(config_path=\"./config_alldatasets.json\")\n",
    "\n",
    "# Load all datasets\n",
    "datasets = my_trainer.load_datasets()\n",
    "\n"
   ]
  },
  {
   "cell_type": "code",
   "execution_count": 3,
   "metadata": {},
   "outputs": [
    {
     "data": {
      "text/plain": [
       "{'dataset_Pbmc10k': {'modalities': ['rna', 'atac'],\n",
       "  'data': [AnnData object with n_obs × n_vars = 9578 × 2000\n",
       "       obs: 'domain', 'cell_type', 'n_genes_by_counts', 'log1p_n_genes_by_counts', 'total_counts', 'log1p_total_counts', 'pct_counts_in_top_50_genes', 'pct_counts_in_top_100_genes', 'pct_counts_in_top_200_genes', 'pct_counts_in_top_500_genes', 'total_counts_mt', 'log1p_total_counts_mt', 'pct_counts_mt'\n",
       "       var: 'gene_ids', 'feature_types', 'mt', 'n_cells_by_counts', 'mean_counts', 'log1p_mean_counts', 'pct_dropout_by_counts', 'total_counts', 'log1p_total_counts', 'highly_variable', 'means', 'dispersions', 'dispersions_norm'\n",
       "       uns: 'log1p', 'hvg'\n",
       "       layers: 'counts',\n",
       "   AnnData object with n_obs × n_vars = 9538 × 15000\n",
       "       obs: 'domain', 'cell_type', 'n_genes_by_counts', 'log1p_n_genes_by_counts', 'total_counts', 'log1p_total_counts'\n",
       "       var: 'feature_types', 'n_cells_by_counts', 'mean_counts', 'log1p_mean_counts', 'pct_dropout_by_counts', 'total_counts', 'log1p_total_counts', 'highly_variable', 'means', 'dispersions', 'dispersions_norm'\n",
       "       uns: 'spectral_eigenvalue', 'log1p', 'hvg'\n",
       "       obsm: 'X_spectral', 'X_umap'\n",
       "       layers: 'counts']},\n",
       " 'dataset_TEA': {'modalities': ['rna', 'atac', 'adt'],\n",
       "  'data': [AnnData object with n_obs × n_vars = 7509 × 2000\n",
       "       obs: 'n_genes_by_counts', 'log1p_n_genes_by_counts', 'total_counts', 'log1p_total_counts', 'pct_counts_in_top_50_genes', 'pct_counts_in_top_100_genes', 'pct_counts_in_top_200_genes', 'pct_counts_in_top_500_genes', 'total_counts_mt', 'log1p_total_counts_mt', 'pct_counts_mt'\n",
       "       var: 'gene_ids', 'feature_types', 'genome', 'interval', 'mt', 'n_cells_by_counts', 'mean_counts', 'log1p_mean_counts', 'pct_dropout_by_counts', 'total_counts', 'log1p_total_counts', 'highly_variable', 'means', 'dispersions', 'dispersions_norm'\n",
       "       uns: 'log1p', 'hvg'\n",
       "       layers: 'counts',\n",
       "   AnnData object with n_obs × n_vars = 7592 × 15000\n",
       "       obs: 'n_genes_by_counts', 'log1p_n_genes_by_counts', 'total_counts', 'log1p_total_counts'\n",
       "       var: 'gene_ids', 'feature_types', 'genome', 'interval', 'n_cells_by_counts', 'mean_counts', 'log1p_mean_counts', 'pct_dropout_by_counts', 'total_counts', 'log1p_total_counts', 'highly_variable', 'means', 'dispersions', 'dispersions_norm'\n",
       "       uns: 'log1p', 'hvg'\n",
       "       layers: 'counts',\n",
       "   AnnData object with n_obs × n_vars = 729095 × 46\n",
       "       var: 'highly_variable'\n",
       "       layers: 'counts']}}"
      ]
     },
     "execution_count": 3,
     "metadata": {},
     "output_type": "execute_result"
    }
   ],
   "source": [
    "datasets"
   ]
  },
  {
   "cell_type": "code",
   "execution_count": 4,
   "metadata": {},
   "outputs": [
    {
     "name": "stdout",
     "output_type": "stream",
     "text": [
      "\n",
      "=== Processing dataset: dataset_Pbmc10k ===\n",
      "Initializing PCA Model\n",
      "Loaded configuration successfully.\n",
      "PCA initialized with dataset_Pbmc10k, 20 components.\n",
      "Loaded models for dataset_Pbmc10k: dict_keys(['pca'])\n",
      "\n",
      "Training model: pca for dataset: dataset_Pbmc10k\n",
      "Training PCA Model\n",
      "PCA completed with 20 components\n",
      "Saving PCA latent embeddings\n",
      "Latent data saved to ./outputs/pca_output/pca_dataset_Pbmc10k.h5ad\n",
      "Loading latent data from ./outputs/pca_output/pca_dataset_Pbmc10k.h5ad\n",
      "Latent data loaded successfully.\n",
      "\n",
      "=== Processing dataset: dataset_TEA ===\n",
      "Warning: 'cell_type' not found in RNA modality during concatenation.\n",
      "Warning: 'cell_type' not found in RNA modality during concatenation.\n",
      "Warning: 'cell_type' not found in RNA modality during concatenation.\n",
      "Initializing PCA Model\n",
      "Loaded configuration successfully.\n",
      "Warning: 'cell_type' not found in dataset. Defaulting to None for coloring.\n",
      "PCA initialized with dataset_TEA, 20 components.\n",
      "Loaded models for dataset_TEA: dict_keys(['pca'])\n",
      "\n",
      "Training model: pca for dataset: dataset_TEA\n",
      "Training PCA Model\n",
      "PCA completed with 20 components\n",
      "Saving PCA latent embeddings\n",
      "Latent data saved to ./outputs/pca_output/pca_dataset_TEA.h5ad\n",
      "Loading latent data from ./outputs/pca_output/pca_dataset_TEA.h5ad\n",
      "Latent data loaded successfully.\n"
     ]
    }
   ],
   "source": [
    "# Iterate over datasets\n",
    "for dataset_name, dataset_data in datasets.items():\n",
    "    print(f\"\\n=== Processing dataset: {dataset_name} ===\")\n",
    "    \n",
    "    # Select models for this dataset\n",
    "    models = my_trainer.model_select(dataset_name, dataset_data)\n",
    "    print(f\"Loaded models for {dataset_name}: {models.keys()}\")\n",
    "    \n",
    "    # Train each model\n",
    "    for model_name, model in models.items():\n",
    "        print(f\"\\nTraining model: {model_name} for dataset: {dataset_name}\")\n",
    "        model.train()\n",
    "        model.save_latent()\n",
    "        model.load_latent()\n"
   ]
  },
  {
   "cell_type": "code",
   "execution_count": 6,
   "metadata": {},
   "outputs": [
    {
     "name": "stdout",
     "output_type": "stream",
     "text": [
      "Latent data for model pca of dataset dataset_TEA:\n",
      "[[-6.747332   -1.273491    0.08276902 ...  0.6759443   1.4473915\n",
      "  -1.6746423 ]\n",
      " [17.606245   -6.885629    2.2269769  ...  1.1124129  -2.2979577\n",
      "   0.8650366 ]\n",
      " [-5.096294   -3.5773036  -4.9170575  ...  0.7366047   2.20286\n",
      "   1.6774948 ]\n",
      " ...\n",
      " [-6.6501517   1.2857772   8.460353   ...  1.6576482  -0.6245683\n",
      "  -3.220989  ]\n",
      " [-4.3206215  -3.646897   -1.9441547  ... -0.1810768   0.44544104\n",
      "  -0.49969208]\n",
      " [-4.598248   -4.72801    -5.4270334  ... -0.04213873  0.9006527\n",
      "  -0.3032057 ]]\n"
     ]
    }
   ],
   "source": [
    "if hasattr(model, 'latent'):\n",
    "            print(f\"Latent data for model {model_name} of dataset {dataset_name}:\")\n",
    "            print(model.latent)  # Printing the latent embeddings\n",
    "elif hasattr(model.dataset, 'obsm') and 'X_pca' in model.dataset.obsm:\n",
    "            print(f\"Latent data (PCA) for model {model_name} of dataset {dataset_name}:\")\n",
    "            print(model.dataset.obsm['X_pca'])  # For PCA, or another latent space you might use\n",
    "else:\n",
    "            print(f\"No latent data found for model {model_name} of dataset {dataset_name}\")"
   ]
  }
 ],
 "metadata": {
  "kernelspec": {
   "display_name": "base",
   "language": "python",
   "name": "python3"
  },
  "language_info": {
   "codemirror_mode": {
    "name": "ipython",
    "version": 3
   },
   "file_extension": ".py",
   "mimetype": "text/x-python",
   "name": "python",
   "nbconvert_exporter": "python",
   "pygments_lexer": "ipython3",
   "version": "3.12.2"
  }
 },
 "nbformat": 4,
 "nbformat_minor": 2
}
